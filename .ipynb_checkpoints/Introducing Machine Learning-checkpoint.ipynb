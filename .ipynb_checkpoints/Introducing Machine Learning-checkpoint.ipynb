{
 "cells": [
  {
   "cell_type": "markdown",
   "metadata": {},
   "source": [
    "# Machine Learning Landscape"
   ]
  },
  {
   "cell_type": "markdown",
   "metadata": {},
   "source": [
    "## What is Machine Learning"
   ]
  },
  {
   "cell_type": "markdown",
   "metadata": {},
   "source": [
    ">The science (and art) of programming computers so they can learn from data\n",
    "\n",
    "Basically we are letting the program discover a series of patterns instead of manualy coding the pattern. "
   ]
  },
  {
   "cell_type": "markdown",
   "metadata": {},
   "source": [
    "## Why Use Machine Learning? "
   ]
  },
  {
   "cell_type": "markdown",
   "metadata": {},
   "source": [
    "* To avoid maintaining large repos with complex rules that are toggled based on conditions. Code that requires a lot of hand tuning\n",
    "* Complex problems with no good solution\n",
    "* Fluctuating environments: where the program needs to adapt to changing data\n",
    "* Getting insights about complex problems or data sets"
   ]
  },
  {
   "cell_type": "markdown",
   "metadata": {},
   "source": [
    "## Types of Machine Learning"
   ]
  },
  {
   "cell_type": "markdown",
   "metadata": {},
   "source": [
    "* Supervised learning - learning off of labeled data (typically classificatio)\n",
    "    * k-Nearest Neighbors\n",
    "    * Linear Regression\n",
    "    * Logistic Regression\n",
    "    * Support Vector Machines (SVMs)\n",
    "    * Decision Trees and Random Forests\n",
    "    * Nueral Networks\n",
    "* Unsupervised learning - trying to gain insights from data\n",
    "    * clustering\n",
    "    * visualization and dimensionality reduction\n",
    "    * Association rule learning\n",
    "* Batched and Online Learning - methods of live machine learning \n",
    "* Semi-Supervised and Reinforment Learning - read the book"
   ]
  },
  {
   "cell_type": "markdown",
   "metadata": {},
   "source": [
    "## Main Challenges of Machine Learning"
   ]
  },
  {
   "cell_type": "markdown",
   "metadata": {},
   "source": [
    "*NO DATA IS GOOD DATA SO ALWAYS NEED MORE DATA*\n",
    "\n",
    "It is important to have enough data to cover problem. More complex problems require more data points\n",
    "- data point: unique data entry that is used to train or test data\n",
    "- data parameter: unique measurable quantity associated with the data point \n",
    "\n",
    "Not all data is good quality. There is a fine line between cleaning the data and making your data worse. \n",
    "- it the outlier expected, will it benefit or hurt your model\n",
    "- running basic statistics and data visualization helps to know if the data makes sense\n",
    "\n",
    "Is your data overfitting? \n",
    "- I recommend simpler models first. \n",
    "- watch for underfiting\n"
   ]
  },
  {
   "cell_type": "markdown",
   "metadata": {},
   "source": [
    "## Jupyter Notebooks Tips and Tricks"
   ]
  },
  {
   "cell_type": "markdown",
   "metadata": {},
   "source": [
    "There are keyboard shortcuts"
   ]
  },
  {
   "cell_type": "code",
   "execution_count": 5,
   "metadata": {},
   "outputs": [
    {
     "name": "stdout",
     "output_type": "stream",
     "text": [
      "/Users/miriah.peterson@getweave.com/code/machine-learning/example-data-munging\n"
     ]
    }
   ],
   "source": [
    "%%bash\n",
    "#multiple lines\n",
    "pwd"
   ]
  },
  {
   "cell_type": "code",
   "execution_count": 4,
   "metadata": {},
   "outputs": [
    {
     "name": "stdout",
     "output_type": "stream",
     "text": [
      "/Users/miriah.peterson@getweave.com/code/machine-learning/example-data-munging\r\n"
     ]
    }
   ],
   "source": [
    "! pwd"
   ]
  },
  {
   "cell_type": "code",
   "execution_count": 8,
   "metadata": {},
   "outputs": [
    {
     "name": "stdout",
     "output_type": "stream",
     "text": [
      "CPU times: user 5 µs, sys: 5 µs, total: 10 µs\n",
      "Wall time: 13.1 µs\n",
      "s\n",
      "t\n",
      "r\n",
      "i\n",
      "n\n",
      "g\n"
     ]
    }
   ],
   "source": [
    "%time \n",
    "for i in \"string\":\n",
    "    print(i)"
   ]
  },
  {
   "cell_type": "code",
   "execution_count": 14,
   "metadata": {},
   "outputs": [
    {
     "data": {
      "text/latex": [
       "\\begin{align}\n",
       "\\text{I can write maths now}\\\\\n",
       "y = mx + b\n",
       "\\end{align}\n"
      ],
      "text/plain": [
       "<IPython.core.display.Latex object>"
      ]
     },
     "metadata": {},
     "output_type": "display_data"
    }
   ],
   "source": [
    "%%latex\n",
    "\\begin{align}\n",
    "\\text{I can write maths now}\\\\\n",
    "y = mx + b\n",
    "\\end{align}"
   ]
  },
  {
   "cell_type": "markdown",
   "metadata": {},
   "source": [
    "pull up documentation"
   ]
  },
  {
   "cell_type": "code",
   "execution_count": null,
   "metadata": {},
   "outputs": [],
   "source": [
    "?"
   ]
  }
 ],
 "metadata": {
  "kernelspec": {
   "display_name": "Python 3",
   "language": "python",
   "name": "python3"
  },
  "language_info": {
   "codemirror_mode": {
    "name": "ipython",
    "version": 3
   },
   "file_extension": ".py",
   "mimetype": "text/x-python",
   "name": "python",
   "nbconvert_exporter": "python",
   "pygments_lexer": "ipython3",
   "version": "3.7.3"
  }
 },
 "nbformat": 4,
 "nbformat_minor": 2
}
